{
 "cells": [
  {
   "cell_type": "markdown",
   "id": "5cdbb1d3",
   "metadata": {},
   "source": [
    "2) Dado a sequência de Fibonacci, onde se inicia por 0 e 1 e o próximo valor sempre será a soma dos 2 valores anteriores (exemplo: 0, 1, 1, 2, 3, 5, 8, 13, 21, 34...), escreva um programa na linguagem que desejar onde, informado um número, ele calcule a sequência de Fibonacci e retorne uma mensagem avisando se o número informado pertence ou não a sequência.\n",
    "\n",
    "IMPORTANTE:\n",
    "Esse número pode ser informado através de qualquer entrada de sua preferência ou pode ser previamente definido no código;\n"
   ]
  },
  {
   "cell_type": "code",
   "execution_count": 52,
   "id": "57a42ffd",
   "metadata": {},
   "outputs": [
    {
     "name": "stdout",
     "output_type": "stream",
     "text": [
      "------------------------------\n",
      "Sequência de Fibonacci\n",
      "------------------------------\n",
      "Escreve o número que deseja consultar se está dentro da sequência de Fibonacci: 31\n",
      "Não contém o número 31 na sequência de Fibonacci.\n",
      "[0, 1, 1, 2, 3, 5, 8, 13, 21, 34, 55, 89, 144, 233, 377, 610, 987, 1597, 2584, 4181, 6765, 10946, 17711, 28657, 46368, 75025, 121393, 196418, 317811, 514229, 832040, 1346269] ...\n"
     ]
    }
   ],
   "source": [
    "print('-'*30)\n",
    "print('Sequência de Fibonacci')\n",
    "print('-'*30)\n",
    "#anterior = 0\n",
    "#proximo = 1\n",
    "#soma = 1\n",
    "#\n",
    "fibonacci = [0, 1, 1, 2, 3, 5, 8, 13, 21, 34, 55, 89, 144, 233, 377, 610, 987, 1597, 2584, 4181, 6765, 10946, 17711, 28657, 46368, 75025, 121393, 196418, 317811, 514229, 832040, 1346269]\n",
    "\n",
    "n = int(input('Escreve o número que deseja consultar se está dentro da sequência de Fibonacci: '))\n",
    "if n in fibonacci:\n",
    "    print('O número {} está na sequência de Fibonacci.'.format(n))\n",
    "else:\n",
    "    print('Não contém o número {} na sequência de Fibonacci.'.format(n))\n",
    "\n",
    "    \n",
    "print(fibonacci,'...')\n",
    "\n"
   ]
  },
  {
   "cell_type": "markdown",
   "id": "0a9f0709",
   "metadata": {},
   "source": [
    "3) Dado um vetor que guarda o valor de faturamento diário de uma distribuidora, faça um programa, na linguagem que desejar, que calcule e retorne:\n",
    "• O menor valor de faturamento ocorrido em um dia do mês;\n",
    "• O maior valor de faturamento ocorrido em um dia do mês;\n",
    "• Número de dias no mês em que o valor de faturamento diário foi superior à média mensal.\n",
    "\n",
    "IMPORTANTE:\n",
    "a) Usar o json ou xml disponível como fonte dos dados do faturamento mensal;\n",
    "b) Podem existir dias sem faturamento, como nos finais de semana e feriados. Estes dias devem ser ignorados no cálculo da média;"
   ]
  },
  {
   "cell_type": "code",
   "execution_count": 227,
   "id": "5c33ce9c",
   "metadata": {},
   "outputs": [
    {
     "data": {
      "text/plain": [
       "'O maior dia de vendas é 15 e vendeu 48924.2448'"
      ]
     },
     "metadata": {},
     "output_type": "display_data"
    },
    {
     "data": {
      "text/plain": [
       "'Menor dia de venda é 13 e vendeu 373.7838'"
      ]
     },
     "metadata": {},
     "output_type": "display_data"
    },
    {
     "data": {
      "text/plain": [
       "'A média é 20865.3'"
      ]
     },
     "metadata": {},
     "output_type": "display_data"
    },
    {
     "data": {
      "text/plain": [
       "20865.37016666666"
      ]
     },
     "metadata": {},
     "output_type": "display_data"
    },
    {
     "data": {
      "text/plain": [
       "'Segue abaixo tabela com dias acima da média de vendas:'"
      ]
     },
     "metadata": {},
     "output_type": "display_data"
    },
    {
     "data": {
      "text/html": [
       "<div>\n",
       "<style scoped>\n",
       "    .dataframe tbody tr th:only-of-type {\n",
       "        vertical-align: middle;\n",
       "    }\n",
       "\n",
       "    .dataframe tbody tr th {\n",
       "        vertical-align: top;\n",
       "    }\n",
       "\n",
       "    .dataframe thead th {\n",
       "        text-align: right;\n",
       "    }\n",
       "</style>\n",
       "<table border=\"1\" class=\"dataframe\">\n",
       "  <thead>\n",
       "    <tr style=\"text-align: right;\">\n",
       "      <th></th>\n",
       "      <th>dia</th>\n",
       "      <th>valor</th>\n",
       "    </tr>\n",
       "  </thead>\n",
       "  <tbody>\n",
       "    <tr>\n",
       "      <th>15</th>\n",
       "      <td>16</td>\n",
       "      <td>48924.2448</td>\n",
       "    </tr>\n",
       "    <tr>\n",
       "      <th>8</th>\n",
       "      <td>9</td>\n",
       "      <td>46251.1740</td>\n",
       "    </tr>\n",
       "    <tr>\n",
       "      <th>20</th>\n",
       "      <td>21</td>\n",
       "      <td>43829.1667</td>\n",
       "    </tr>\n",
       "    <tr>\n",
       "      <th>7</th>\n",
       "      <td>8</td>\n",
       "      <td>42889.2258</td>\n",
       "    </tr>\n",
       "    <tr>\n",
       "      <th>19</th>\n",
       "      <td>20</td>\n",
       "      <td>35240.1826</td>\n",
       "    </tr>\n",
       "    <tr>\n",
       "      <th>5</th>\n",
       "      <td>6</td>\n",
       "      <td>26742.6612</td>\n",
       "    </tr>\n",
       "    <tr>\n",
       "      <th>2</th>\n",
       "      <td>3</td>\n",
       "      <td>26139.6134</td>\n",
       "    </tr>\n",
       "    <tr>\n",
       "      <th>26</th>\n",
       "      <td>27</td>\n",
       "      <td>25681.8318</td>\n",
       "    </tr>\n",
       "    <tr>\n",
       "      <th>1</th>\n",
       "      <td>2</td>\n",
       "      <td>24537.6698</td>\n",
       "    </tr>\n",
       "    <tr>\n",
       "      <th>0</th>\n",
       "      <td>1</td>\n",
       "      <td>22174.1664</td>\n",
       "    </tr>\n",
       "  </tbody>\n",
       "</table>\n",
       "</div>"
      ],
      "text/plain": [
       "    dia       valor\n",
       "15   16  48924.2448\n",
       "8     9  46251.1740\n",
       "20   21  43829.1667\n",
       "7     8  42889.2258\n",
       "19   20  35240.1826\n",
       "5     6  26742.6612\n",
       "2     3  26139.6134\n",
       "26   27  25681.8318\n",
       "1     2  24537.6698\n",
       "0     1  22174.1664"
      ]
     },
     "execution_count": 227,
     "metadata": {},
     "output_type": "execute_result"
    }
   ],
   "source": [
    "import pandas as pd\n",
    "faturamento_df = pd.read_json('faturamento.json')\n",
    "faturamento_df.drop([3,4,6,10,11,17,18,24,25], axis=0, inplace = True)\n",
    "\n",
    "faturamento_df.sort_values('valor', ascending= False, inplace = True)\n",
    "maior_venda = faturamento_df['valor'].max()\n",
    "dia_maior_venda = faturamento_df['valor'].idxmax()\n",
    "menor_venda = faturamento_df['valor'].min()\n",
    "dia_menor_venda = faturamento_df['valor'].idxmin()\n",
    "display(f'O maior dia de vendas é {dia_maior_venda} e vendeu {maior_venda}')\n",
    "display(f'Menor dia de venda é {dia_menor_venda} e vendeu {menor_venda}')\n",
    "media = faturamento_df['valor'].mean()\n",
    "display('A média é 20865.3') \n",
    "display(media)\n",
    "acima_da_media = [faturamento_df['valor'] >=20865.37016]\n",
    "acima_da_media\n",
    "display('Segue abaixo tabela com dias acima da média de vendas:')\n",
    "faturamento_df.loc[[15,8,20,7,19,5,2,26,1,0]]\n"
   ]
  },
  {
   "cell_type": "markdown",
   "id": "2b900d81",
   "metadata": {},
   "source": [
    "4) Dado o valor de faturamento mensal de uma distribuidora, detalhado por estado:\n",
    "\n",
    "SP – R$67.836,43\n",
    "\n",
    "RJ – R$36.678,66\n",
    "\n",
    "MG – R$29.229,88\n",
    "\n",
    "ES – R$27.165,48\n",
    "\n",
    "Outros – R$19.849,53\n",
    "\n",
    "Escreva um programa na linguagem que desejar onde calcule o percentual de representação que cada estado teve dentro do valor total mensal da distribuidora."
   ]
  },
  {
   "cell_type": "code",
   "execution_count": 211,
   "id": "5ba20bdd",
   "metadata": {},
   "outputs": [
    {
     "data": {
      "text/plain": [
       "'O total do faturamento da empresa  de distribuição é de R$180759.98'"
      ]
     },
     "metadata": {},
     "output_type": "display_data"
    },
    {
     "data": {
      "text/plain": [
       "'São Paulo representa 37.53% do valor total de vendas.'"
      ]
     },
     "metadata": {},
     "output_type": "display_data"
    },
    {
     "data": {
      "text/plain": [
       "'Rio de Janeiro representa 20.29% do valor total de vendas.'"
      ]
     },
     "metadata": {},
     "output_type": "display_data"
    },
    {
     "data": {
      "text/plain": [
       "'Minas Gerais representa 16.17% do valor total de vendas.'"
      ]
     },
     "metadata": {},
     "output_type": "display_data"
    },
    {
     "data": {
      "text/plain": [
       "'Espirito Santo representa 15.03% do valor total de vendas.'"
      ]
     },
     "metadata": {},
     "output_type": "display_data"
    },
    {
     "data": {
      "text/plain": [
       "'Outros representa 10.98% do valor total de vendas.'"
      ]
     },
     "metadata": {},
     "output_type": "display_data"
    }
   ],
   "source": [
    "sp = 67836.43\n",
    "rj = 36678.66\n",
    "mg = 29229.88\n",
    "es = 27165.48\n",
    "outros= 19849.53\n",
    "total = sp + rj +mg + es + outros\n",
    "display('O total do faturamento da empresa  de distribuição é de R${}'.format(total))\n",
    "display('São Paulo representa {:.2%} do valor total de vendas.'.format(sp / total))\n",
    "display('Rio de Janeiro representa {:.2%} do valor total de vendas.'.format(rj / total))\n",
    "display('Minas Gerais representa {:.2%} do valor total de vendas.'.format(mg / total))\n",
    "display('Espirito Santo representa {:.2%} do valor total de vendas.'.format(es / total))\n",
    "display('Outros representa {:.2%} do valor total de vendas.'.format(outros / total))"
   ]
  },
  {
   "cell_type": "markdown",
   "id": "21b46800",
   "metadata": {},
   "source": [
    "5) Escreva um programa que inverta os caracteres de um string.\n",
    "\n",
    "IMPORTANTE:\n",
    "a) Essa string pode ser informada através de qualquer entrada de sua preferência ou pode ser previamente definida no código;\n",
    "b) Evite usar funções prontas, como, por exemplo, reverse;"
   ]
  },
  {
   "cell_type": "code",
   "execution_count": 226,
   "id": "6677fb68",
   "metadata": {},
   "outputs": [
    {
     "data": {
      "text/plain": [
       "'alletroP ocsicnarF leafaR'"
      ]
     },
     "metadata": {},
     "output_type": "display_data"
    }
   ],
   "source": [
    "nome = 'Rafael Francisco Portella'\n",
    "display(nome[::-1])"
   ]
  }
 ],
 "metadata": {
  "kernelspec": {
   "display_name": "Python 3 (ipykernel)",
   "language": "python",
   "name": "python3"
  },
  "language_info": {
   "codemirror_mode": {
    "name": "ipython",
    "version": 3
   },
   "file_extension": ".py",
   "mimetype": "text/x-python",
   "name": "python",
   "nbconvert_exporter": "python",
   "pygments_lexer": "ipython3",
   "version": "3.9.12"
  }
 },
 "nbformat": 4,
 "nbformat_minor": 5
}
